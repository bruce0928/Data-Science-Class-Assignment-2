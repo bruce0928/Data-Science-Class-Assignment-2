{
 "cells": [
  {
   "cell_type": "code",
   "execution_count": 1,
   "metadata": {
    "id": "5endi_Si17WZ"
   },
   "outputs": [],
   "source": [
    "import matplotlib.pyplot as plt\n",
    "import numpy as np\n",
    "from matplotlib.colors import ListedColormap\n",
    "from sklearn import datasets, metrics\n",
    "from sklearn.ensemble import RandomForestClassifier\n",
    "from sklearn.model_selection import train_test_split"
   ]
  },
  {
   "cell_type": "code",
   "execution_count": 2,
   "metadata": {
    "id": "yOE1lLsP3Luv"
   },
   "outputs": [],
   "source": [
    "def plot_decision_regions(X,y,classifier,test_idx=None,resolution=0.02):\n",
    "  #setup markers generator and color map\n",
    "  markers = ('s','x','o','^','v')\n",
    "  colors = ('red','blue','lightgreen','gray','cyan')\n",
    "  cmap = ListedColormap(colors[:len(np.unique(y))])\n",
    "\n",
    "  #plot the decision surface\n",
    "  x1_min,x1_max = X[:,0].min()-1,X[:,0].max()+1\n",
    "  x2_min,x2_max = X[:,1].min()-1,X[:,1].max()+1\n",
    "  xx1,xx2 = np.meshgrid(np.arange(x1_min,x1_max,resolution), np.arange(x2_min,x2_max,resolution))\n",
    "\n",
    "  z = classifier.predict(np.array([xx1.ravel(),xx2.ravel()]).T)\n",
    "  z= z.reshape(xx1.shape)\n",
    "  plt.contourf(xx1,xx2,z,alpha=0.04,cmap=cmap)\n",
    "  plt.xlim(xx1.min(),xx1.max())\n",
    "  plt.ylim(xx2.min(),xx2.max())\n",
    "\n",
    "  #plot all samples\n",
    "  x_test, y_test = X[test_idx,:], y[test_idx]\n",
    "  for idx, cl in enumerate(np.unique(y)):\n",
    "    plt.scatter(x=X[y==cl,0], y=X[y==cl,1], alpha = 0.8, c=cmap(idx), marker=markers[idx], label=cl)\n",
    "\n",
    "  #highlight test samples\n",
    "  if test_idx:\n",
    "    x_test , y_test =  X[test_idx,:], y[test_idx]\n",
    "    plt.scatter(x_test[:,0], x_test[:,1], c='', alpha = 1.0, linewidth=1, marker='o', s=55, label='test set')"
   ]
  },
  {
   "cell_type": "code",
   "execution_count": 3,
   "metadata": {
    "colab": {
     "base_uri": "https://localhost:8080/",
     "height": 367
    },
    "id": "lxT0rAiv8YMV",
    "outputId": "04345362-ad20-4ad1-f45f-ddbdef0d4902"
   },
   "outputs": [
    {
     "name": "stderr",
     "output_type": "stream",
     "text": [
      "'c' argument looks like a single numeric RGB or RGBA sequence, which should be avoided as value-mapping will have precedence in case its length matches with 'x' & 'y'.  Please use a 2-D array with a single row if you really want to specify the same RGB or RGBA value for all points.\n",
      "'c' argument looks like a single numeric RGB or RGBA sequence, which should be avoided as value-mapping will have precedence in case its length matches with 'x' & 'y'.  Please use a 2-D array with a single row if you really want to specify the same RGB or RGBA value for all points.\n",
      "'c' argument looks like a single numeric RGB or RGBA sequence, which should be avoided as value-mapping will have precedence in case its length matches with 'x' & 'y'.  Please use a 2-D array with a single row if you really want to specify the same RGB or RGBA value for all points.\n"
     ]
    },
    {
     "data": {
      "image/png": "[encoded data removed]",
      "text/plain": [
       "<Figure size 432x288 with 1 Axes>"
      ]
     },
     "metadata": {
      "needs_background": "light"
     },
     "output_type": "display_data"
    }
   ],
   "source": [
    "def main():\n",
    "  iris = datasets.load_iris()\n",
    "  x_train,x_test,y_train,y_test = train_test_split(iris.data[:,[2,3]], iris.target, test_size=0.25, random_state=4)\n",
    "  clf = RandomForestClassifier(n_estimators=20,max_depth=4)\n",
    "  clf.fit(x_train,y_train)\n",
    "  y_pred = clf.predict(x_test)\n",
    "\n",
    "  x_combined=np.vstack((x_train,x_test))\n",
    "  y_combined=np.hstack((y_train,y_test))\n",
    "\n",
    "  plot_decision_regions(x_combined, y_combined, classifier=clf, test_idx=range(105,150))\n",
    "  plt.xlabel('petal length [cm]')\n",
    "  plt.ylabel('petal width [cm]')\n",
    "  plt.legend(loc='upper left')\n",
    "  plt.show()\n",
    "\n",
    "if __name__ == '__main__':\n",
    "  main()"
   ]
  },
  {
   "cell_type": "code",
   "execution_count": null,
   "metadata": {
    "id": "w5Wg1uAY9CRZ"
   },
   "outputs": [],
   "source": []
  }
 ],
 "metadata": {
  "colab": {
   "name": "RandomForestClassifier.ipynb",
   "provenance": []
  },
  "kernelspec": {
   "display_name": "Python 3",
   "language": "python",
   "name": "python3"
  },
  "language_info": {
   "codemirror_mode": {
    "name": "ipython",
    "version": 3
   },
   "file_extension": ".py",
   "mimetype": "text/x-python",
   "name": "python",
   "nbconvert_exporter": "python",
   "pygments_lexer": "ipython3",
   "version": "3.7.10"
  }
 },
 "nbformat": 4,
 "nbformat_minor": 1
}
